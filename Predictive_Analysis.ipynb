{
  "nbformat": 4,
  "nbformat_minor": 0,
  "metadata": {
    "colab": {
      "provenance": [],
      "authorship_tag": "ABX9TyMSubzIiZBsksgVh5PD51Ys",
      "include_colab_link": true
    },
    "kernelspec": {
      "name": "python3",
      "display_name": "Python 3"
    },
    "language_info": {
      "name": "python"
    }
  },
  "cells": [
    {
      "cell_type": "markdown",
      "metadata": {
        "id": "view-in-github",
        "colab_type": "text"
      },
      "source": [
        "<a href=\"https://colab.research.google.com/github/pragatipatel26/Predictive-Analytics-and-Readmission-Analysis-for-Diabetes-Management/blob/main/Predictive_Analysis.ipynb\" target=\"_parent\"><img src=\"https://colab.research.google.com/assets/colab-badge.svg\" alt=\"Open In Colab\"/></a>"
      ]
    },
    {
      "cell_type": "code",
      "execution_count": null,
      "metadata": {
        "colab": {
          "base_uri": "https://localhost:8080/",
          "height": 73
        },
        "id": "rO-Lrv_anIqf",
        "outputId": "361ec784-24f0-4d02-da8f-4bcbe5ca1dee"
      },
      "outputs": [
        {
          "output_type": "display_data",
          "data": {
            "text/plain": [
              "<IPython.core.display.HTML object>"
            ],
            "text/html": [
              "\n",
              "     <input type=\"file\" id=\"files-24dfe0b1-09a8-4029-877c-f451d5a7d498\" name=\"files[]\" multiple disabled\n",
              "        style=\"border:none\" />\n",
              "     <output id=\"result-24dfe0b1-09a8-4029-877c-f451d5a7d498\">\n",
              "      Upload widget is only available when the cell has been executed in the\n",
              "      current browser session. Please rerun this cell to enable.\n",
              "      </output>\n",
              "      <script>// Copyright 2017 Google LLC\n",
              "//\n",
              "// Licensed under the Apache License, Version 2.0 (the \"License\");\n",
              "// you may not use this file except in compliance with the License.\n",
              "// You may obtain a copy of the License at\n",
              "//\n",
              "//      http://www.apache.org/licenses/LICENSE-2.0\n",
              "//\n",
              "// Unless required by applicable law or agreed to in writing, software\n",
              "// distributed under the License is distributed on an \"AS IS\" BASIS,\n",
              "// WITHOUT WARRANTIES OR CONDITIONS OF ANY KIND, either express or implied.\n",
              "// See the License for the specific language governing permissions and\n",
              "// limitations under the License.\n",
              "\n",
              "/**\n",
              " * @fileoverview Helpers for google.colab Python module.\n",
              " */\n",
              "(function(scope) {\n",
              "function span(text, styleAttributes = {}) {\n",
              "  const element = document.createElement('span');\n",
              "  element.textContent = text;\n",
              "  for (const key of Object.keys(styleAttributes)) {\n",
              "    element.style[key] = styleAttributes[key];\n",
              "  }\n",
              "  return element;\n",
              "}\n",
              "\n",
              "// Max number of bytes which will be uploaded at a time.\n",
              "const MAX_PAYLOAD_SIZE = 100 * 1024;\n",
              "\n",
              "function _uploadFiles(inputId, outputId) {\n",
              "  const steps = uploadFilesStep(inputId, outputId);\n",
              "  const outputElement = document.getElementById(outputId);\n",
              "  // Cache steps on the outputElement to make it available for the next call\n",
              "  // to uploadFilesContinue from Python.\n",
              "  outputElement.steps = steps;\n",
              "\n",
              "  return _uploadFilesContinue(outputId);\n",
              "}\n",
              "\n",
              "// This is roughly an async generator (not supported in the browser yet),\n",
              "// where there are multiple asynchronous steps and the Python side is going\n",
              "// to poll for completion of each step.\n",
              "// This uses a Promise to block the python side on completion of each step,\n",
              "// then passes the result of the previous step as the input to the next step.\n",
              "function _uploadFilesContinue(outputId) {\n",
              "  const outputElement = document.getElementById(outputId);\n",
              "  const steps = outputElement.steps;\n",
              "\n",
              "  const next = steps.next(outputElement.lastPromiseValue);\n",
              "  return Promise.resolve(next.value.promise).then((value) => {\n",
              "    // Cache the last promise value to make it available to the next\n",
              "    // step of the generator.\n",
              "    outputElement.lastPromiseValue = value;\n",
              "    return next.value.response;\n",
              "  });\n",
              "}\n",
              "\n",
              "/**\n",
              " * Generator function which is called between each async step of the upload\n",
              " * process.\n",
              " * @param {string} inputId Element ID of the input file picker element.\n",
              " * @param {string} outputId Element ID of the output display.\n",
              " * @return {!Iterable<!Object>} Iterable of next steps.\n",
              " */\n",
              "function* uploadFilesStep(inputId, outputId) {\n",
              "  const inputElement = document.getElementById(inputId);\n",
              "  inputElement.disabled = false;\n",
              "\n",
              "  const outputElement = document.getElementById(outputId);\n",
              "  outputElement.innerHTML = '';\n",
              "\n",
              "  const pickedPromise = new Promise((resolve) => {\n",
              "    inputElement.addEventListener('change', (e) => {\n",
              "      resolve(e.target.files);\n",
              "    });\n",
              "  });\n",
              "\n",
              "  const cancel = document.createElement('button');\n",
              "  inputElement.parentElement.appendChild(cancel);\n",
              "  cancel.textContent = 'Cancel upload';\n",
              "  const cancelPromise = new Promise((resolve) => {\n",
              "    cancel.onclick = () => {\n",
              "      resolve(null);\n",
              "    };\n",
              "  });\n",
              "\n",
              "  // Wait for the user to pick the files.\n",
              "  const files = yield {\n",
              "    promise: Promise.race([pickedPromise, cancelPromise]),\n",
              "    response: {\n",
              "      action: 'starting',\n",
              "    }\n",
              "  };\n",
              "\n",
              "  cancel.remove();\n",
              "\n",
              "  // Disable the input element since further picks are not allowed.\n",
              "  inputElement.disabled = true;\n",
              "\n",
              "  if (!files) {\n",
              "    return {\n",
              "      response: {\n",
              "        action: 'complete',\n",
              "      }\n",
              "    };\n",
              "  }\n",
              "\n",
              "  for (const file of files) {\n",
              "    const li = document.createElement('li');\n",
              "    li.append(span(file.name, {fontWeight: 'bold'}));\n",
              "    li.append(span(\n",
              "        `(${file.type || 'n/a'}) - ${file.size} bytes, ` +\n",
              "        `last modified: ${\n",
              "            file.lastModifiedDate ? file.lastModifiedDate.toLocaleDateString() :\n",
              "                                    'n/a'} - `));\n",
              "    const percent = span('0% done');\n",
              "    li.appendChild(percent);\n",
              "\n",
              "    outputElement.appendChild(li);\n",
              "\n",
              "    const fileDataPromise = new Promise((resolve) => {\n",
              "      const reader = new FileReader();\n",
              "      reader.onload = (e) => {\n",
              "        resolve(e.target.result);\n",
              "      };\n",
              "      reader.readAsArrayBuffer(file);\n",
              "    });\n",
              "    // Wait for the data to be ready.\n",
              "    let fileData = yield {\n",
              "      promise: fileDataPromise,\n",
              "      response: {\n",
              "        action: 'continue',\n",
              "      }\n",
              "    };\n",
              "\n",
              "    // Use a chunked sending to avoid message size limits. See b/62115660.\n",
              "    let position = 0;\n",
              "    do {\n",
              "      const length = Math.min(fileData.byteLength - position, MAX_PAYLOAD_SIZE);\n",
              "      const chunk = new Uint8Array(fileData, position, length);\n",
              "      position += length;\n",
              "\n",
              "      const base64 = btoa(String.fromCharCode.apply(null, chunk));\n",
              "      yield {\n",
              "        response: {\n",
              "          action: 'append',\n",
              "          file: file.name,\n",
              "          data: base64,\n",
              "        },\n",
              "      };\n",
              "\n",
              "      let percentDone = fileData.byteLength === 0 ?\n",
              "          100 :\n",
              "          Math.round((position / fileData.byteLength) * 100);\n",
              "      percent.textContent = `${percentDone}% done`;\n",
              "\n",
              "    } while (position < fileData.byteLength);\n",
              "  }\n",
              "\n",
              "  // All done.\n",
              "  yield {\n",
              "    response: {\n",
              "      action: 'complete',\n",
              "    }\n",
              "  };\n",
              "}\n",
              "\n",
              "scope.google = scope.google || {};\n",
              "scope.google.colab = scope.google.colab || {};\n",
              "scope.google.colab._files = {\n",
              "  _uploadFiles,\n",
              "  _uploadFilesContinue,\n",
              "};\n",
              "})(self);\n",
              "</script> "
            ]
          },
          "metadata": {}
        },
        {
          "output_type": "stream",
          "name": "stdout",
          "text": [
            "Saving diabetes (1).csv to diabetes (1).csv\n"
          ]
        }
      ],
      "source": [
        "from google.colab import files\n",
        "import pandas as pd\n",
        "import io\n",
        "import numpy as np\n",
        "\n",
        "# Upload the dataset\n",
        "uploaded = files.upload()\n",
        "filename = next(iter(uploaded))\n",
        "df = pd.read_csv(io.BytesIO(uploaded[filename]))"
      ]
    },
    {
      "cell_type": "code",
      "source": [
        "#FIRST PART== EDA\n",
        "#Basic Info\n",
        "df.head()\n",
        "df.tail()\n",
        "df.shape\n",
        "df.columns\n",
        "df.info()\n",
        "df.describe()\n",
        "\n",
        "#Missing Values\n",
        "df.isnull().sum()\n",
        "df.isnull().mean()*100"
      ],
      "metadata": {
        "colab": {
          "base_uri": "https://localhost:8080/",
          "height": 644
        },
        "id": "ZviTAz0DF_bj",
        "outputId": "22ac6040-845c-4382-91e8-92fc4a85150f"
      },
      "execution_count": null,
      "outputs": [
        {
          "output_type": "stream",
          "name": "stdout",
          "text": [
            "<class 'pandas.core.frame.DataFrame'>\n",
            "RangeIndex: 768 entries, 0 to 767\n",
            "Data columns (total 9 columns):\n",
            " #   Column                    Non-Null Count  Dtype  \n",
            "---  ------                    --------------  -----  \n",
            " 0   Pregnancies               768 non-null    int64  \n",
            " 1   Glucose                   763 non-null    float64\n",
            " 2   BloodPressure             733 non-null    float64\n",
            " 3   SkinThickness             541 non-null    float64\n",
            " 4   Insulin                   394 non-null    float64\n",
            " 5   BMI                       757 non-null    float64\n",
            " 6   DiabetesPedigreeFunction  768 non-null    float64\n",
            " 7   Age                       768 non-null    int64  \n",
            " 8   Outcome                   768 non-null    int64  \n",
            "dtypes: float64(6), int64(3)\n",
            "memory usage: 54.1 KB\n"
          ]
        },
        {
          "output_type": "execute_result",
          "data": {
            "text/plain": [
              "Pregnancies                  0.000000\n",
              "Glucose                      0.651042\n",
              "BloodPressure                4.557292\n",
              "SkinThickness               29.557292\n",
              "Insulin                     48.697917\n",
              "BMI                          1.432292\n",
              "DiabetesPedigreeFunction     0.000000\n",
              "Age                          0.000000\n",
              "Outcome                      0.000000\n",
              "dtype: float64"
            ],
            "text/html": [
              "<div>\n",
              "<style scoped>\n",
              "    .dataframe tbody tr th:only-of-type {\n",
              "        vertical-align: middle;\n",
              "    }\n",
              "\n",
              "    .dataframe tbody tr th {\n",
              "        vertical-align: top;\n",
              "    }\n",
              "\n",
              "    .dataframe thead th {\n",
              "        text-align: right;\n",
              "    }\n",
              "</style>\n",
              "<table border=\"1\" class=\"dataframe\">\n",
              "  <thead>\n",
              "    <tr style=\"text-align: right;\">\n",
              "      <th></th>\n",
              "      <th>0</th>\n",
              "    </tr>\n",
              "  </thead>\n",
              "  <tbody>\n",
              "    <tr>\n",
              "      <th>Pregnancies</th>\n",
              "      <td>0.000000</td>\n",
              "    </tr>\n",
              "    <tr>\n",
              "      <th>Glucose</th>\n",
              "      <td>0.651042</td>\n",
              "    </tr>\n",
              "    <tr>\n",
              "      <th>BloodPressure</th>\n",
              "      <td>4.557292</td>\n",
              "    </tr>\n",
              "    <tr>\n",
              "      <th>SkinThickness</th>\n",
              "      <td>29.557292</td>\n",
              "    </tr>\n",
              "    <tr>\n",
              "      <th>Insulin</th>\n",
              "      <td>48.697917</td>\n",
              "    </tr>\n",
              "    <tr>\n",
              "      <th>BMI</th>\n",
              "      <td>1.432292</td>\n",
              "    </tr>\n",
              "    <tr>\n",
              "      <th>DiabetesPedigreeFunction</th>\n",
              "      <td>0.000000</td>\n",
              "    </tr>\n",
              "    <tr>\n",
              "      <th>Age</th>\n",
              "      <td>0.000000</td>\n",
              "    </tr>\n",
              "    <tr>\n",
              "      <th>Outcome</th>\n",
              "      <td>0.000000</td>\n",
              "    </tr>\n",
              "  </tbody>\n",
              "</table>\n",
              "</div><br><label><b>dtype:</b> float64</label>"
            ]
          },
          "metadata": {},
          "execution_count": 12
        }
      ]
    },
    {
      "cell_type": "code",
      "source": [
        "#Heatmap of missing values\n",
        "import seaborn as sns\n",
        "sns.heatmap(df.isnull(), cbar=False)"
      ],
      "metadata": {
        "colab": {
          "base_uri": "https://localhost:8080/",
          "height": 621
        },
        "id": "-UFJiqNaF0co",
        "outputId": "9153c578-c156-4b7e-d344-7a6d755b6424"
      },
      "execution_count": null,
      "outputs": [
        {
          "output_type": "execute_result",
          "data": {
            "text/plain": [
              "<Axes: >"
            ]
          },
          "metadata": {},
          "execution_count": 11
        },
        {
          "output_type": "display_data",
          "data": {
            "text/plain": [
              "<Figure size 640x480 with 1 Axes>"
            ],
            "image/png": "[encoded data removed]"
          },
          "metadata": {}
        }
      ]
    },
    {
      "cell_type": "code",
      "source": [
        "#Replacing 0 with NaN\n",
        "df[['Glucose','BloodPressure','SkinThickness','Insulin','BMI']] = df[['Glucose','BloodPressure','SkinThickness','Insulin','BMI']].replace(0,np.nan)\n"
      ],
      "metadata": {
        "id": "j5MWoNd2oiU-"
      },
      "execution_count": null,
      "outputs": []
    },
    {
      "cell_type": "code",
      "source": [
        "#SECOND PART== Using a KNN approach to fill in for the missing values - (it can be much better)\n",
        "from sklearn.preprocessing import StandardScaler\n",
        "from sklearn.impute import KNNImputer\n",
        "\n",
        "# 'df'is our DataFrame with these columns specified\n",
        "columns=['Glucose','BloodPressure','SkinThickness','Insulin','BMI']\n",
        "\n",
        "#Standardizing the data\n",
        "scaler = StandardScaler()\n",
        "scaler.fit(df[columns])\n",
        "df_scaled = scaler.transform(df[columns])\n",
        "\n",
        "#Converting the df_scaled object back into DataFrame\n",
        "df_scaled = pd.DataFrame(df_scaled, columns=columns)\n",
        "\n",
        "# Imputing missing values using KNN\n",
        "imputer = KNNImputer(n_neighbors=5)  # Using 5 neighbors for simplicity\n",
        "df_scaled_imputed = imputer.fit_transform(df_scaled)\n",
        "df_scaled_imputed = pd.DataFrame(df_scaled_imputed, columns=columns)\n",
        "df.update(df_scaled_imputed)"
      ],
      "metadata": {
        "id": "jJXO5XgtB9hy"
      },
      "execution_count": null,
      "outputs": []
    },
    {
      "cell_type": "code",
      "source": [
        "#THIRD PART== Preprocess the dataset - encode the output as -1 or 1, and standardize the input features - train a logistic regression model\n",
        "from sklearn.preprocessing import StandardScaler\n",
        "from sklearn.model_selection import train_test_split\n",
        "\n",
        "#Encodeing the Outcome as -1 and 1\n",
        "df['Outcome'] = df['Outcome'].replace({0:-1,1:1})\n",
        "\n",
        "#Standardizing the Input Features (excluding 'Outcome')\n",
        "features=df.columns.drop('Outcome')\n",
        "scaler = StandardScaler()\n",
        "df[features] = scaler.fit_transform(df[features])\n",
        "\n",
        "# Spliting the data into training and testing sets\n",
        "X_train,X_test,Y_train,Y_test=train_test_split(df[features],df['Outcome'],test_size=0.3,random_state=42)\n",
        "\n"
      ],
      "metadata": {
        "id": "p_Hw-P4RDRoZ"
      },
      "execution_count": null,
      "outputs": []
    },
    {
      "cell_type": "code",
      "source": [
        "#FOURTH PART== Trainnig Logistic Regression Model\n",
        "from sklearn.linear_model import LogisticRegression\n",
        "from sklearn.metrics import accuracy_score, confusion_matrix\n",
        "\n",
        "class_weights={-1:1,1:1}\n",
        "log_reg_model=LogisticRegression(class_weight=class_weights,random_state=42)\n",
        "log_reg_model.fit(X_train,Y_train)\n",
        "\n",
        "#Evaluating the Model\n",
        "Y_pred_log_reg=log_reg_model.predict(X_test)\n",
        "accuracy_log_reg = accuracy_score(Y_test, Y_pred_log_reg)\n",
        "conf_matrix_log_reg = confusion_matrix(Y_test, Y_pred_log_reg)\n",
        "\n",
        "#Printing the model accuracy and the confusion matrix\n",
        "print(\"Accuracy of the Logistic Regression model:\", accuracy_log_reg)\n",
        "print(\"Confusion Matrix:\\n\", conf_matrix_log_reg)"
      ],
      "metadata": {
        "colab": {
          "base_uri": "https://localhost:8080/"
        },
        "id": "txH1YmWrMZfT",
        "outputId": "e49d115f-df8b-4eb7-a5ba-91fdc290cca7"
      },
      "execution_count": null,
      "outputs": [
        {
          "output_type": "stream",
          "name": "stdout",
          "text": [
            "Accuracy of the Logistic Regression model: 0.7402597402597403\n",
            "Confusion Matrix:\n",
            " [[124  27]\n",
            " [ 33  47]]\n"
          ]
        }
      ]
    },
    {
      "cell_type": "code",
      "source": [
        "#FIFTH PART==Training Random forest model with balanced class weight\n",
        "from sklearn.ensemble import RandomForestClassifier\n",
        "\n",
        "rf_model = RandomForestClassifier(n_estimators = 200, class_weight=class_weights,random_state=42)\n",
        "rf_model.fit(X_train, Y_train)\n",
        "\n",
        "#Evaluating the Model\n",
        "Y_pred_rf=rf_model.predict(X_test)\n",
        "accuracy_rf = accuracy_score(Y_test, Y_pred_rf)\n",
        "conf_matrix_rf = confusion_matrix(Y_test, Y_pred_rf)\n",
        "\n",
        "#Printing the model accuracy and the confusion matrix\n",
        "print(\"Accuracy of the Random Forest model:\", accuracy_rf)\n",
        "print(\"Confusion Matrix:\\n\", conf_matrix_rf)"
      ],
      "metadata": {
        "colab": {
          "base_uri": "https://localhost:8080/"
        },
        "id": "XWQXb_43JueQ",
        "outputId": "7580363e-0b33-4973-b4ea-facdcd79ef07"
      },
      "execution_count": null,
      "outputs": [
        {
          "output_type": "stream",
          "name": "stdout",
          "text": [
            "Accuracy of the Random Forest model: 0.7316017316017316\n",
            "Confusion Matrix:\n",
            " [[116  35]\n",
            " [ 27  53]]\n"
          ]
        }
      ]
    },
    {
      "cell_type": "code",
      "source": [
        "#Classification Reports for both Models\n",
        "from sklearn.metrics import classification_report\n",
        "\n",
        "# For Logistic Regression\n",
        "print(\"Logistic Regression Classification Report:\")\n",
        "print(classification_report(Y_test, Y_pred_log_reg))\n",
        "\n",
        "# For Random Forest\n",
        "print(\"Random Forest Classification Report:\")\n",
        "print(classification_report(Y_test, Y_pred_rf))"
      ],
      "metadata": {
        "colab": {
          "base_uri": "https://localhost:8080/"
        },
        "id": "SUeh7M_nN5nM",
        "outputId": "23f0128d-0d0d-464a-8011-016c0882b94e"
      },
      "execution_count": null,
      "outputs": [
        {
          "output_type": "stream",
          "name": "stdout",
          "text": [
            "Logistic Regression Classification Report:\n",
            "              precision    recall  f1-score   support\n",
            "\n",
            "          -1       0.79      0.82      0.81       151\n",
            "           1       0.64      0.59      0.61        80\n",
            "\n",
            "    accuracy                           0.74       231\n",
            "   macro avg       0.71      0.70      0.71       231\n",
            "weighted avg       0.74      0.74      0.74       231\n",
            "\n",
            "Random Forest Classification Report:\n",
            "              precision    recall  f1-score   support\n",
            "\n",
            "          -1       0.81      0.77      0.79       151\n",
            "           1       0.60      0.66      0.63        80\n",
            "\n",
            "    accuracy                           0.73       231\n",
            "   macro avg       0.71      0.72      0.71       231\n",
            "weighted avg       0.74      0.73      0.73       231\n",
            "\n"
          ]
        }
      ]
    },
    {
      "cell_type": "code",
      "source": [
        "#Reporting accuracy, confusion matrix, precision, recall, ROC\n",
        "from sklearn.metrics import precision_score, recall_score, roc_curve, roc_auc_score\n",
        "import matplotlib.pyplot as plt\n",
        "\n",
        "#Calculating precision and recall\n",
        "precision = precision_score(Y_test, Y_pred_log_reg)\n",
        "recall = recall_score(Y_test, Y_pred_log_reg)\n",
        "\n",
        "#Calculating ROC AUC\n",
        "fpr, tpr, thresholds = roc_curve(Y_test, log_reg_model.predict_proba(X_test)[:, 1])\n",
        "roc_auc = roc_auc_score(Y_test, log_reg_model.predict_proba(X_test)[:, 1])\n",
        "\n",
        "#Displaying all metrics\n",
        "print(\"Accuracy:\", accuracy_log_reg)\n",
        "print(\"Confusion Matrix:\\n\", conf_matrix_log_reg)\n",
        "print(\"Precision:\", precision)\n",
        "print(\"Recall:\", recall)\n",
        "print(\"ROC AUC:\", roc_auc)\n",
        "\n",
        "#Plotting ROC Curve\n",
        "plt.figure()\n",
        "plt.plot(fpr, tpr, color='darkorange', lw=2, label='ROC curve (area = %0.2f)' % roc_auc)\n",
        "plt.plot([0, 1], [0, 1], color='navy', lw=2, linestyle='--')\n",
        "plt.xlim([0.0, 1.0])\n",
        "plt.ylim([0.0, 1.05])\n",
        "plt.xlabel('False Positive Rate')\n",
        "plt.ylabel('True Positive Rate')\n",
        "plt.title('Receiver Operating Characteristic')\n",
        "plt.legend(loc=\"lower right\")\n",
        "plt.show()\n",
        "\n",
        "\n",
        "\n",
        "#identifying how variables affect the outcome\n",
        "# Getting the coefficients of the features\n",
        "feature_importance = pd.DataFrame(log_reg_model.coef_[0], index=features, columns=['Coefficient'])\n",
        "print(feature_importance.sort_values(by='Coefficient', ascending=False))"
      ],
      "metadata": {
        "colab": {
          "base_uri": "https://localhost:8080/",
          "height": 750
        },
        "id": "bT5d8K8xOYjV",
        "outputId": "f6157b23-633a-4e53-9178-f03f84d98f7d"
      },
      "execution_count": null,
      "outputs": [
        {
          "output_type": "stream",
          "name": "stdout",
          "text": [
            "Accuracy: 0.7402597402597403\n",
            "Confusion Matrix:\n",
            " [[124  27]\n",
            " [ 33  47]]\n",
            "Precision: 0.6351351351351351\n",
            "Recall: 0.5875\n",
            "ROC AUC: 0.7943708609271523\n"
          ]
        },
        {
          "output_type": "display_data",
          "data": {
            "text/plain": [
              "<Figure size 640x480 with 1 Axes>"
            ],
            "image/png": "[encoded data removed]"
          },
          "metadata": {}
        },
        {
          "output_type": "stream",
          "name": "stdout",
          "text": [
            "                          Coefficient\n",
            "Glucose                      1.145976\n",
            "BMI                          0.628092\n",
            "Age                          0.362966\n",
            "Pregnancies                  0.201554\n",
            "SkinThickness                0.131430\n",
            "DiabetesPedigreeFunction     0.105604\n",
            "Insulin                      0.040359\n",
            "BloodPressure               -0.071582\n"
          ]
        }
      ]
    },
    {
      "cell_type": "code",
      "source": [
        "#Change in reults in logistic regression model on changing the class weights\n",
        "from sklearn.linear_model import LogisticRegression\n",
        "from sklearn.metrics import accuracy_score, precision_score, recall_score, roc_auc_score\n",
        "import pandas as pd\n",
        "import matplotlib.pyplot as plt\n",
        "\n",
        "# List of class weight configurations\n",
        "class_weights_list = [\n",
        "    {-1: 1, 1: 1},    # Default (balanced weights)\n",
        "    {-1: 1, 1: 2},    # Higher weight for positive class\n",
        "    {-1: 1, 1: 3},    # Even higher weight for positive class\n",
        "    {-1: 2, 1: 1},    # Higher weight for negative class\n",
        "]\n",
        "\n",
        "# Iterating through each class weight configuration\n",
        "for weights in class_weights_list:\n",
        "    print(f\"Testing Class Weights: {weights}\")\n",
        "\n",
        "    # Initializinge and training the Logistic Regression model\n",
        "    model = LogisticRegression(class_weight=weights, solver='liblinear')\n",
        "    model.fit(X_train, Y_train)\n",
        "\n",
        "    # Making predictions\n",
        "    y_pred = model.predict(X_test)\n",
        "    y_proba = model.predict_proba(X_test)[:, 1]\n",
        "\n",
        "    # Calculating metrics\n",
        "    accuracy = accuracy_score(Y_test, y_pred)\n",
        "    precision = precision_score(Y_test, y_pred)\n",
        "    recall = recall_score(Y_test, y_pred)\n",
        "    roc_auc = roc_auc_score(Y_test, y_proba)\n",
        "\n",
        "    # Printing metrics\n",
        "    print(f\"Accuracy: {accuracy:.2f}\")\n",
        "    print(f\"Precision: {precision:.2f}\")\n",
        "    print(f\"Recall: {recall:.2f}\")\n",
        "    print(f\"ROC AUC: {roc_auc:.2f}\")\n",
        "    print(\"-\" * 30)\n",
        "\n",
        "# Analyzing feature importance for the last trained model\n",
        "feature_importance = pd.DataFrame(model.coef_[0], index=X_train.columns, columns=['Coefficient'])\n",
        "feature_importance = feature_importance.sort_values(by='Coefficient', ascending=False)\n",
        "\n",
        "# Displaying and visualizing feature importance\n",
        "print(\"Feature Importance:\")\n",
        "print(feature_importance)\n",
        "feature_importance.plot(kind='bar', figsize=(10, 6), legend=False, color='skyblue')\n",
        "plt.title('Feature Importance')\n",
        "plt.xlabel('Features')\n",
        "plt.ylabel('Coefficient Value')\n",
        "plt.show()\n",
        "\n"
      ],
      "metadata": {
        "colab": {
          "base_uri": "https://localhost:8080/",
          "height": 1000
        },
        "id": "3peLijoWMLed",
        "outputId": "03e8c508-d579-40eb-f2db-cfb25f3a43ba"
      },
      "execution_count": null,
      "outputs": [
        {
          "output_type": "stream",
          "name": "stdout",
          "text": [
            "Testing Class Weights: {-1: 1, 1: 1}\n",
            "Accuracy: 0.74\n",
            "Precision: 0.64\n",
            "Recall: 0.59\n",
            "ROC AUC: 0.79\n",
            "------------------------------\n",
            "Testing Class Weights: {-1: 1, 1: 2}\n",
            "Accuracy: 0.70\n",
            "Precision: 0.55\n",
            "Recall: 0.68\n",
            "ROC AUC: 0.80\n",
            "------------------------------\n",
            "Testing Class Weights: {-1: 1, 1: 3}\n",
            "Accuracy: 0.66\n",
            "Precision: 0.50\n",
            "Recall: 0.79\n",
            "ROC AUC: 0.80\n",
            "------------------------------\n",
            "Testing Class Weights: {-1: 2, 1: 1}\n",
            "Accuracy: 0.75\n",
            "Precision: 0.72\n",
            "Recall: 0.45\n",
            "ROC AUC: 0.79\n",
            "------------------------------\n",
            "Feature Importance:\n",
            "                          Coefficient\n",
            "Glucose                      1.137051\n",
            "BMI                          0.624296\n",
            "Age                          0.319385\n",
            "Pregnancies                  0.179721\n",
            "SkinThickness                0.123074\n",
            "DiabetesPedigreeFunction     0.049513\n",
            "Insulin                      0.020237\n",
            "BloodPressure               -0.064018\n"
          ]
        },
        {
          "output_type": "display_data",
          "data": {
            "text/plain": [
              "<Figure size 1000x600 with 1 Axes>"
            ],
            "image/png": "[encoded data removed]"
          },
          "metadata": {}
        }
      ]
    }
  ]
}